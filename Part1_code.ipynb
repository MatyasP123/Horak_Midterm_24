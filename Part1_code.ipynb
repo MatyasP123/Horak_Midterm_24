{
 "cells": [
  {
   "cell_type": "code",
   "execution_count": 104,
   "metadata": {},
   "outputs": [],
   "source": [
    "import seaborn as sns\n",
    "import pandas as pd\n",
    "import zipfile\n",
    "import numpy as np\n",
    "import csv\n",
    "\n",
    "import datetime\n",
    "\n",
    "import matplotlib.pyplot as plt\n",
    "\n",
    "idx = pd.IndexSlice\n",
    "\n",
    "plotconfig = {\n",
    "    'style':'.',\n",
    "    'grid':True,\n",
    "    'markersize':5,\n",
    "    'figsize':(20,6)\n",
    "}"
   ]
  },
  {
   "cell_type": "code",
   "execution_count": 70,
   "metadata": {},
   "outputs": [],
   "source": [
    "with zipfile.ZipFile(\"29447070.zip\") as z:\n",
    "    with z.open(\"data/CDNS.csv\") as cd: \n",
    "        CDNS =pd.read_csv(cd)\n",
    "    with z.open(\"data/CSCO.csv\") as cs: \n",
    "        CSCO =pd.read_csv(cs)\n",
    "    with z.open(\"data/EMN.csv\") as e: \n",
    "        EMN =pd.read_csv(e)\n",
    "    with z.open(\"data/STZ.csv\") as s: \n",
    "        STZ =pd.read_csv(s)"
   ]
  },
  {
   "cell_type": "code",
   "execution_count": 71,
   "metadata": {},
   "outputs": [
    {
     "data": {
      "text/plain": [
       "True"
      ]
     },
     "execution_count": 71,
     "metadata": {},
     "output_type": "execute_result"
    }
   ],
   "source": [
    "equalcd = CDNS['Close'].equals(CDNS['Adj Close'])\n",
    "equalcd"
   ]
  },
  {
   "cell_type": "code",
   "execution_count": 72,
   "metadata": {},
   "outputs": [
    {
     "data": {
      "text/plain": [
       "False"
      ]
     },
     "execution_count": 72,
     "metadata": {},
     "output_type": "execute_result"
    }
   ],
   "source": [
    "equalcs = CSCO['Close'].equals(CSCO['Adj Close'])\n",
    "equalcs"
   ]
  },
  {
   "cell_type": "code",
   "execution_count": 73,
   "metadata": {},
   "outputs": [
    {
     "data": {
      "text/plain": [
       "False"
      ]
     },
     "execution_count": 73,
     "metadata": {},
     "output_type": "execute_result"
    }
   ],
   "source": [
    "equale = EMN['Close'].equals(EMN['Adj Close'])\n",
    "equale"
   ]
  },
  {
   "cell_type": "code",
   "execution_count": 74,
   "metadata": {},
   "outputs": [
    {
     "data": {
      "text/plain": [
       "False"
      ]
     },
     "execution_count": 74,
     "metadata": {},
     "output_type": "execute_result"
    }
   ],
   "source": [
    "equals = STZ['Close'].equals(STZ['Adj Close'])\n",
    "equals"
   ]
  },
  {
   "cell_type": "code",
   "execution_count": 75,
   "metadata": {},
   "outputs": [],
   "source": [
    "#T1: They are the same for company CDNS\n",
    "#COuld mean there have been no stock splits or dividend distributions affecting its price. Should be a positive reflection of the company's corporate actions history"
   ]
  },
  {
   "cell_type": "code",
   "execution_count": 76,
   "metadata": {},
   "outputs": [
    {
     "name": "stdout",
     "output_type": "stream",
     "text": [
      "Highest Price: 193.08999633789065, Lowest Price: 35.849998474121094\n"
     ]
    }
   ],
   "source": [
    "high_cd = CDNS['Adj Close'].max()\n",
    "low_cd = CDNS['Adj Close'].min()\n",
    "\n",
    "print(f\"Highest Price: {high_cd}, Lowest Price: {low_cd}\")"
   ]
  },
  {
   "cell_type": "code",
   "execution_count": 77,
   "metadata": {},
   "outputs": [
    {
     "name": "stdout",
     "output_type": "stream",
     "text": [
      "Highest Price: 63.959999084472656, Lowest Price: 30.299468994140625\n"
     ]
    }
   ],
   "source": [
    "high_cs = CSCO['Adj Close'].max()\n",
    "low_cs = CSCO['Adj Close'].min()\n",
    "\n",
    "print(f\"Highest Price: {high_cs}, Lowest Price: {low_cs}\")"
   ]
  },
  {
   "cell_type": "code",
   "execution_count": 78,
   "metadata": {},
   "outputs": [
    {
     "name": "stdout",
     "output_type": "stream",
     "text": [
      "Highest Price: 127.69000244140624, Lowest Price: 36.54267883300781\n"
     ]
    }
   ],
   "source": [
    "high_e = EMN['Adj Close'].max()\n",
    "low_e = EMN['Adj Close'].min()\n",
    "\n",
    "print(f\"Highest Price: {high_e}, Lowest Price: {low_e}\")"
   ]
  },
  {
   "cell_type": "code",
   "execution_count": 79,
   "metadata": {},
   "outputs": [
    {
     "name": "stdout",
     "output_type": "stream",
     "text": [
      "Highest Price: 258.7799987792969, Lowest Price: 102.54167938232422\n"
     ]
    }
   ],
   "source": [
    "high_s = STZ['Adj Close'].max()\n",
    "low_s = STZ['Adj Close'].min()\n",
    "\n",
    "print(f\"Highest Price: {high_s}, Lowest Price: {low_s}\")"
   ]
  },
  {
   "cell_type": "code",
   "execution_count": 80,
   "metadata": {},
   "outputs": [
    {
     "name": "stdout",
     "output_type": "stream",
     "text": [
      "Minimum Return: -0.13465260624174907\n",
      "Maximum Return: 0.14293661938718263\n",
      "Mean Return: 0.0010477684417524377\n",
      "Median Return: 0.0017499989696875497\n"
     ]
    }
   ],
   "source": [
    "# T3\n",
    "CDNS['Log_Returns'] = np.log(CDNS['Adj Close'] / CDNS['Adj Close'].shift(1))\n",
    "\n",
    "min_return = CDNS['Log_Returns'].min()\n",
    "max_return = CDNS['Log_Returns'].max()\n",
    "mean_return = CDNS['Log_Returns'].mean()\n",
    "median_return = CDNS['Log_Returns'].median()\n",
    "\n",
    "print(f\"Minimum Return: {min_return}\")\n",
    "print(f\"Maximum Return: {max_return}\")\n",
    "print(f\"Mean Return: {mean_return}\")\n",
    "print(f\"Median Return: {median_return}\")"
   ]
  },
  {
   "cell_type": "code",
   "execution_count": 81,
   "metadata": {},
   "outputs": [
    {
     "name": "stdout",
     "output_type": "stream",
     "text": [
      "Minimum Return: -0.14769237897559764\n",
      "Maximum Return: 0.12551762652867707\n",
      "Mean Return: 0.00031069533644176913\n",
      "Median Return: 0.0006253014578018721\n"
     ]
    }
   ],
   "source": [
    "CSCO['Log_Returns'] = np.log(CSCO['Adj Close'] / CSCO['Adj Close'].shift(1))\n",
    "\n",
    "min_return2 = CSCO['Log_Returns'].min()\n",
    "max_return2 = CSCO['Log_Returns'].max()\n",
    "mean_return2 = CSCO['Log_Returns'].mean()\n",
    "median_return2 = CSCO['Log_Returns'].median()\n",
    "\n",
    "print(f\"Minimum Return: {min_return2}\")\n",
    "print(f\"Maximum Return: {max_return2}\")\n",
    "print(f\"Mean Return: {mean_return2}\")\n",
    "print(f\"Median Return: {median_return2}\")"
   ]
  },
  {
   "cell_type": "code",
   "execution_count": 82,
   "metadata": {},
   "outputs": [
    {
     "name": "stdout",
     "output_type": "stream",
     "text": [
      "Minimum Return: -0.14622859231484686\n",
      "Maximum Return: 0.11355192789714243\n",
      "Mean Return: 8.518503410241042e-05\n",
      "Median Return: 0.00039583704657886556\n"
     ]
    }
   ],
   "source": [
    "EMN['Log_Returns'] = np.log(EMN['Adj Close'] / EMN['Adj Close'].shift(1))\n",
    "\n",
    "min_return3 = EMN['Log_Returns'].min()\n",
    "max_return3 = EMN['Log_Returns'].max()\n",
    "mean_return3 = EMN['Log_Returns'].mean()\n",
    "median_return3 = EMN['Log_Returns'].median()\n",
    "\n",
    "print(f\"Minimum Return: {min_return3}\")\n",
    "print(f\"Maximum Return: {max_return3}\")\n",
    "print(f\"Mean Return: {mean_return3}\")\n",
    "print(f\"Median Return: {median_return3}\")"
   ]
  },
  {
   "cell_type": "code",
   "execution_count": 83,
   "metadata": {},
   "outputs": [
    {
     "name": "stdout",
     "output_type": "stream",
     "text": [
      "Minimum Return: -0.1654022345244587\n",
      "Maximum Return: 0.15879186807169526\n",
      "Mean Return: 0.0001387169721527553\n",
      "Median Return: 0.0004126856112709589\n"
     ]
    }
   ],
   "source": [
    "STZ['Log_Returns'] = np.log(STZ['Adj Close'] / STZ['Adj Close'].shift(1))\n",
    "\n",
    "min_return4 = STZ['Log_Returns'].min()\n",
    "max_return4 = STZ['Log_Returns'].max()\n",
    "mean_return4 = STZ['Log_Returns'].mean()\n",
    "median_return4 = STZ['Log_Returns'].median()\n",
    "\n",
    "print(f\"Minimum Return: {min_return4}\")\n",
    "print(f\"Maximum Return: {max_return4}\")\n",
    "print(f\"Mean Return: {mean_return4}\")\n",
    "print(f\"Median Return: {median_return4}\")"
   ]
  },
  {
   "cell_type": "code",
   "execution_count": 84,
   "metadata": {},
   "outputs": [
    {
     "name": "stdout",
     "output_type": "stream",
     "text": [
      "Highest Gain Date: 2018-10-23\n",
      "Highest Loss Date: 2020-03-16\n"
     ]
    }
   ],
   "source": [
    "# T4\n",
    "gain_cd = CDNS.loc[CDNS['Log_Returns'].idxmax(), 'Date']\n",
    "\n",
    "loss_cd = CDNS.loc[CDNS['Log_Returns'].idxmin(), 'Date']\n",
    "\n",
    "print(f\"Highest Gain Date: {gain_cd}\")\n",
    "print(f\"Highest Loss Date: {loss_cd}\")"
   ]
  },
  {
   "cell_type": "code",
   "execution_count": 85,
   "metadata": {},
   "outputs": [
    {
     "name": "stdout",
     "output_type": "stream",
     "text": [
      "Highest Gain Date: 2020-03-13\n",
      "Highest Loss Date: 2022-05-19\n"
     ]
    }
   ],
   "source": [
    "gain_cs = CSCO.loc[CSCO['Log_Returns'].idxmax(), 'Date']\n",
    "\n",
    "loss_cs = CSCO.loc[CSCO['Log_Returns'].idxmin(), 'Date']\n",
    "\n",
    "print(f\"Highest Gain Date: {gain_cs}\")\n",
    "print(f\"Highest Loss Date: {loss_cs}\")"
   ]
  },
  {
   "cell_type": "code",
   "execution_count": 86,
   "metadata": {},
   "outputs": [
    {
     "name": "stdout",
     "output_type": "stream",
     "text": [
      "Highest Gain Date: 2020-03-25\n",
      "Highest Loss Date: 2020-03-16\n"
     ]
    }
   ],
   "source": [
    "gain_e = EMN.loc[EMN['Log_Returns'].idxmax(), 'Date']\n",
    "\n",
    "loss_e = EMN.loc[EMN['Log_Returns'].idxmin(), 'Date']\n",
    "\n",
    "print(f\"Highest Gain Date: {gain_e}\")\n",
    "print(f\"Highest Loss Date: {loss_e}\")"
   ]
  },
  {
   "cell_type": "code",
   "execution_count": 91,
   "metadata": {},
   "outputs": [
    {
     "name": "stdout",
     "output_type": "stream",
     "text": [
      "Highest Gain Date: 2020-03-24\n",
      "Highest Loss Date: 2020-03-12\n"
     ]
    }
   ],
   "source": [
    "gain_s = STZ.loc[STZ['Log_Returns'].idxmax(), 'Date']\n",
    "\n",
    "loss_s = STZ.loc[STZ['Log_Returns'].idxmin(), 'Date']\n",
    "\n",
    "print(f\"Highest Gain Date: {gain_s}\")\n",
    "print(f\"Highest Loss Date: {loss_s}\")"
   ]
  },
  {
   "cell_type": "code",
   "execution_count": 94,
   "metadata": {},
   "outputs": [
    {
     "ename": "KeyError",
     "evalue": "'Date'",
     "output_type": "error",
     "traceback": [
      "\u001b[1;31m---------------------------------------------------------------------------\u001b[0m",
      "\u001b[1;31mKeyError\u001b[0m                                  Traceback (most recent call last)",
      "File \u001b[1;32m~\\AppData\\Local\\Packages\\PythonSoftwareFoundation.Python.3.12_qbz5n2kfra8p0\\LocalCache\\local-packages\\Python312\\site-packages\\pandas\\core\\indexes\\base.py:3805\u001b[0m, in \u001b[0;36mIndex.get_loc\u001b[1;34m(self, key)\u001b[0m\n\u001b[0;32m   3804\u001b[0m \u001b[38;5;28;01mtry\u001b[39;00m:\n\u001b[1;32m-> 3805\u001b[0m     \u001b[38;5;28;01mreturn\u001b[39;00m \u001b[38;5;28;43mself\u001b[39;49m\u001b[38;5;241;43m.\u001b[39;49m\u001b[43m_engine\u001b[49m\u001b[38;5;241;43m.\u001b[39;49m\u001b[43mget_loc\u001b[49m\u001b[43m(\u001b[49m\u001b[43mcasted_key\u001b[49m\u001b[43m)\u001b[49m\n\u001b[0;32m   3806\u001b[0m \u001b[38;5;28;01mexcept\u001b[39;00m \u001b[38;5;167;01mKeyError\u001b[39;00m \u001b[38;5;28;01mas\u001b[39;00m err:\n",
      "File \u001b[1;32mindex.pyx:167\u001b[0m, in \u001b[0;36mpandas._libs.index.IndexEngine.get_loc\u001b[1;34m()\u001b[0m\n",
      "File \u001b[1;32mindex.pyx:196\u001b[0m, in \u001b[0;36mpandas._libs.index.IndexEngine.get_loc\u001b[1;34m()\u001b[0m\n",
      "File \u001b[1;32mpandas\\\\_libs\\\\hashtable_class_helper.pxi:7081\u001b[0m, in \u001b[0;36mpandas._libs.hashtable.PyObjectHashTable.get_item\u001b[1;34m()\u001b[0m\n",
      "File \u001b[1;32mpandas\\\\_libs\\\\hashtable_class_helper.pxi:7089\u001b[0m, in \u001b[0;36mpandas._libs.hashtable.PyObjectHashTable.get_item\u001b[1;34m()\u001b[0m\n",
      "\u001b[1;31mKeyError\u001b[0m: 'Date'",
      "\nThe above exception was the direct cause of the following exception:\n",
      "\u001b[1;31mKeyError\u001b[0m                                  Traceback (most recent call last)",
      "Cell \u001b[1;32mIn[94], line 2\u001b[0m\n\u001b[0;32m      1\u001b[0m \u001b[38;5;66;03m# T5\u001b[39;00m\n\u001b[1;32m----> 2\u001b[0m CDNS[\u001b[38;5;124m'\u001b[39m\u001b[38;5;124mDate\u001b[39m\u001b[38;5;124m'\u001b[39m] \u001b[38;5;241m=\u001b[39m pd\u001b[38;5;241m.\u001b[39mto_datetime(\u001b[43mCDNS\u001b[49m\u001b[43m[\u001b[49m\u001b[38;5;124;43m'\u001b[39;49m\u001b[38;5;124;43mDate\u001b[39;49m\u001b[38;5;124;43m'\u001b[39;49m\u001b[43m]\u001b[49m)\n\u001b[0;32m      3\u001b[0m CDNS\u001b[38;5;241m.\u001b[39mset_index(\u001b[38;5;124m'\u001b[39m\u001b[38;5;124mDate\u001b[39m\u001b[38;5;124m'\u001b[39m, inplace\u001b[38;5;241m=\u001b[39m\u001b[38;5;28;01mTrue\u001b[39;00m)\n\u001b[0;32m      5\u001b[0m \u001b[38;5;66;03m# Resample to get weekly average volume\u001b[39;00m\n",
      "File \u001b[1;32m~\\AppData\\Local\\Packages\\PythonSoftwareFoundation.Python.3.12_qbz5n2kfra8p0\\LocalCache\\local-packages\\Python312\\site-packages\\pandas\\core\\frame.py:4090\u001b[0m, in \u001b[0;36mDataFrame.__getitem__\u001b[1;34m(self, key)\u001b[0m\n\u001b[0;32m   4088\u001b[0m \u001b[38;5;28;01mif\u001b[39;00m \u001b[38;5;28mself\u001b[39m\u001b[38;5;241m.\u001b[39mcolumns\u001b[38;5;241m.\u001b[39mnlevels \u001b[38;5;241m>\u001b[39m \u001b[38;5;241m1\u001b[39m:\n\u001b[0;32m   4089\u001b[0m     \u001b[38;5;28;01mreturn\u001b[39;00m \u001b[38;5;28mself\u001b[39m\u001b[38;5;241m.\u001b[39m_getitem_multilevel(key)\n\u001b[1;32m-> 4090\u001b[0m indexer \u001b[38;5;241m=\u001b[39m \u001b[38;5;28;43mself\u001b[39;49m\u001b[38;5;241;43m.\u001b[39;49m\u001b[43mcolumns\u001b[49m\u001b[38;5;241;43m.\u001b[39;49m\u001b[43mget_loc\u001b[49m\u001b[43m(\u001b[49m\u001b[43mkey\u001b[49m\u001b[43m)\u001b[49m\n\u001b[0;32m   4091\u001b[0m \u001b[38;5;28;01mif\u001b[39;00m is_integer(indexer):\n\u001b[0;32m   4092\u001b[0m     indexer \u001b[38;5;241m=\u001b[39m [indexer]\n",
      "File \u001b[1;32m~\\AppData\\Local\\Packages\\PythonSoftwareFoundation.Python.3.12_qbz5n2kfra8p0\\LocalCache\\local-packages\\Python312\\site-packages\\pandas\\core\\indexes\\base.py:3812\u001b[0m, in \u001b[0;36mIndex.get_loc\u001b[1;34m(self, key)\u001b[0m\n\u001b[0;32m   3807\u001b[0m     \u001b[38;5;28;01mif\u001b[39;00m \u001b[38;5;28misinstance\u001b[39m(casted_key, \u001b[38;5;28mslice\u001b[39m) \u001b[38;5;129;01mor\u001b[39;00m (\n\u001b[0;32m   3808\u001b[0m         \u001b[38;5;28misinstance\u001b[39m(casted_key, abc\u001b[38;5;241m.\u001b[39mIterable)\n\u001b[0;32m   3809\u001b[0m         \u001b[38;5;129;01mand\u001b[39;00m \u001b[38;5;28many\u001b[39m(\u001b[38;5;28misinstance\u001b[39m(x, \u001b[38;5;28mslice\u001b[39m) \u001b[38;5;28;01mfor\u001b[39;00m x \u001b[38;5;129;01min\u001b[39;00m casted_key)\n\u001b[0;32m   3810\u001b[0m     ):\n\u001b[0;32m   3811\u001b[0m         \u001b[38;5;28;01mraise\u001b[39;00m InvalidIndexError(key)\n\u001b[1;32m-> 3812\u001b[0m     \u001b[38;5;28;01mraise\u001b[39;00m \u001b[38;5;167;01mKeyError\u001b[39;00m(key) \u001b[38;5;28;01mfrom\u001b[39;00m \u001b[38;5;21;01merr\u001b[39;00m\n\u001b[0;32m   3813\u001b[0m \u001b[38;5;28;01mexcept\u001b[39;00m \u001b[38;5;167;01mTypeError\u001b[39;00m:\n\u001b[0;32m   3814\u001b[0m     \u001b[38;5;66;03m# If we have a listlike key, _check_indexing_error will raise\u001b[39;00m\n\u001b[0;32m   3815\u001b[0m     \u001b[38;5;66;03m#  InvalidIndexError. Otherwise we fall through and re-raise\u001b[39;00m\n\u001b[0;32m   3816\u001b[0m     \u001b[38;5;66;03m#  the TypeError.\u001b[39;00m\n\u001b[0;32m   3817\u001b[0m     \u001b[38;5;28mself\u001b[39m\u001b[38;5;241m.\u001b[39m_check_indexing_error(key)\n",
      "\u001b[1;31mKeyError\u001b[0m: 'Date'"
     ]
    }
   ],
   "source": [
    "# T5\n",
    "CDNS['Date'] = pd.to_datetime(CDNS['Date'])\n",
    "CDNS.set_index('Date', inplace=True)\n",
    "\n",
    "# Resample to get weekly average volume\n",
    "weekly_avg_volume = CDNS['Volume'].resample('W').mean()\n",
    "\n",
    "print(weekly_avg_volume)\n",
    "# same for the other companies\n"
   ]
  },
  {
   "cell_type": "code",
   "execution_count": 96,
   "metadata": {},
   "outputs": [
    {
     "name": "stdout",
     "output_type": "stream",
     "text": [
      "Total Return over the entire period: 273.63%\n"
     ]
    }
   ],
   "source": [
    "# T6\n",
    "first_cd = CDNS['Adj Close'].iloc[0]\n",
    "last_cd = CDNS['Adj Close'].iloc[-1]\n",
    "total_cd = ((last_cd - first_cd) / first_cd) * 100\n",
    "\n",
    "print(\"Total Return over the entire period: {:.2f}%\".format(total_cd))"
   ]
  },
  {
   "cell_type": "code",
   "execution_count": 99,
   "metadata": {},
   "outputs": [
    {
     "name": "stdout",
     "output_type": "stream",
     "text": [
      "Total Return over the entire period: 47.82%\n"
     ]
    }
   ],
   "source": [
    "first_cs = CSCO['Adj Close'].iloc[0]\n",
    "last_cs = CSCO['Adj Close'].iloc[-1]\n",
    "total_cs = ((last_cs - first_cs) / first_cs) * 100\n",
    "\n",
    "print(\"Total Return over the entire period: {:.2f}%\".format(total_cs))"
   ]
  },
  {
   "cell_type": "code",
   "execution_count": 101,
   "metadata": {},
   "outputs": [
    {
     "name": "stdout",
     "output_type": "stream",
     "text": [
      "Total Return over the entire period: 11.31%\n"
     ]
    }
   ],
   "source": [
    "first_e = EMN['Adj Close'].iloc[0]\n",
    "last_e = EMN['Adj Close'].iloc[-1]\n",
    "total_e = ((last_e - first_e) / first_e) * 100\n",
    "\n",
    "print(\"Total Return over the entire period: {:.2f}%\".format(total_e))"
   ]
  },
  {
   "cell_type": "code",
   "execution_count": 103,
   "metadata": {},
   "outputs": [
    {
     "name": "stdout",
     "output_type": "stream",
     "text": [
      "Total Return over the entire period: 19.05%\n"
     ]
    }
   ],
   "source": [
    "first_s = STZ['Adj Close'].iloc[0]\n",
    "last_s = STZ['Adj Close'].iloc[-1]\n",
    "total_s = ((last_s - first_s) / first_s) * 100\n",
    "\n",
    "print(\"Total Return over the entire period: {:.2f}%\".format(total_s))"
   ]
  },
  {
   "cell_type": "code",
   "execution_count": 105,
   "metadata": {},
   "outputs": [
    {
     "ename": "KeyError",
     "evalue": "'Date'",
     "output_type": "error",
     "traceback": [
      "\u001b[1;31m---------------------------------------------------------------------------\u001b[0m",
      "\u001b[1;31mKeyError\u001b[0m                                  Traceback (most recent call last)",
      "File \u001b[1;32m~\\AppData\\Local\\Packages\\PythonSoftwareFoundation.Python.3.12_qbz5n2kfra8p0\\LocalCache\\local-packages\\Python312\\site-packages\\pandas\\core\\indexes\\base.py:3805\u001b[0m, in \u001b[0;36mIndex.get_loc\u001b[1;34m(self, key)\u001b[0m\n\u001b[0;32m   3804\u001b[0m \u001b[38;5;28;01mtry\u001b[39;00m:\n\u001b[1;32m-> 3805\u001b[0m     \u001b[38;5;28;01mreturn\u001b[39;00m \u001b[38;5;28;43mself\u001b[39;49m\u001b[38;5;241;43m.\u001b[39;49m\u001b[43m_engine\u001b[49m\u001b[38;5;241;43m.\u001b[39;49m\u001b[43mget_loc\u001b[49m\u001b[43m(\u001b[49m\u001b[43mcasted_key\u001b[49m\u001b[43m)\u001b[49m\n\u001b[0;32m   3806\u001b[0m \u001b[38;5;28;01mexcept\u001b[39;00m \u001b[38;5;167;01mKeyError\u001b[39;00m \u001b[38;5;28;01mas\u001b[39;00m err:\n",
      "File \u001b[1;32mindex.pyx:167\u001b[0m, in \u001b[0;36mpandas._libs.index.IndexEngine.get_loc\u001b[1;34m()\u001b[0m\n",
      "File \u001b[1;32mindex.pyx:196\u001b[0m, in \u001b[0;36mpandas._libs.index.IndexEngine.get_loc\u001b[1;34m()\u001b[0m\n",
      "File \u001b[1;32mpandas\\\\_libs\\\\hashtable_class_helper.pxi:7081\u001b[0m, in \u001b[0;36mpandas._libs.hashtable.PyObjectHashTable.get_item\u001b[1;34m()\u001b[0m\n",
      "File \u001b[1;32mpandas\\\\_libs\\\\hashtable_class_helper.pxi:7089\u001b[0m, in \u001b[0;36mpandas._libs.hashtable.PyObjectHashTable.get_item\u001b[1;34m()\u001b[0m\n",
      "\u001b[1;31mKeyError\u001b[0m: 'Date'",
      "\nThe above exception was the direct cause of the following exception:\n",
      "\u001b[1;31mKeyError\u001b[0m                                  Traceback (most recent call last)",
      "Cell \u001b[1;32mIn[105], line 3\u001b[0m\n\u001b[0;32m      1\u001b[0m \u001b[38;5;66;03m# T7\u001b[39;00m\n\u001b[0;32m      2\u001b[0m plt\u001b[38;5;241m.\u001b[39mfigure(figsize\u001b[38;5;241m=\u001b[39m(\u001b[38;5;241m10\u001b[39m,\u001b[38;5;241m6\u001b[39m))\n\u001b[1;32m----> 3\u001b[0m plt\u001b[38;5;241m.\u001b[39mplot(\u001b[43mCDNS\u001b[49m\u001b[43m[\u001b[49m\u001b[38;5;124;43m'\u001b[39;49m\u001b[38;5;124;43mDate\u001b[39;49m\u001b[38;5;124;43m'\u001b[39;49m\u001b[43m]\u001b[49m, CDNS[\u001b[38;5;124m'\u001b[39m\u001b[38;5;124mLog_Returns\u001b[39m\u001b[38;5;124m'\u001b[39m], label\u001b[38;5;241m=\u001b[39m\u001b[38;5;124m'\u001b[39m\u001b[38;5;124mCDNS\u001b[39m\u001b[38;5;124m'\u001b[39m)\n\u001b[0;32m      4\u001b[0m plt\u001b[38;5;241m.\u001b[39mplot(CSCO[\u001b[38;5;124m'\u001b[39m\u001b[38;5;124mDate\u001b[39m\u001b[38;5;124m'\u001b[39m], CSCO[\u001b[38;5;124m'\u001b[39m\u001b[38;5;124mLog_Returns\u001b[39m\u001b[38;5;124m'\u001b[39m], label\u001b[38;5;241m=\u001b[39m\u001b[38;5;124m'\u001b[39m\u001b[38;5;124mCSCO\u001b[39m\u001b[38;5;124m'\u001b[39m)\n\u001b[0;32m      5\u001b[0m plt\u001b[38;5;241m.\u001b[39mplot(EMN[\u001b[38;5;124m'\u001b[39m\u001b[38;5;124mDate\u001b[39m\u001b[38;5;124m'\u001b[39m], EMN[\u001b[38;5;124m'\u001b[39m\u001b[38;5;124mLog_Returns\u001b[39m\u001b[38;5;124m'\u001b[39m], label\u001b[38;5;241m=\u001b[39m\u001b[38;5;124m'\u001b[39m\u001b[38;5;124mEMN\u001b[39m\u001b[38;5;124m'\u001b[39m)\n",
      "File \u001b[1;32m~\\AppData\\Local\\Packages\\PythonSoftwareFoundation.Python.3.12_qbz5n2kfra8p0\\LocalCache\\local-packages\\Python312\\site-packages\\pandas\\core\\frame.py:4090\u001b[0m, in \u001b[0;36mDataFrame.__getitem__\u001b[1;34m(self, key)\u001b[0m\n\u001b[0;32m   4088\u001b[0m \u001b[38;5;28;01mif\u001b[39;00m \u001b[38;5;28mself\u001b[39m\u001b[38;5;241m.\u001b[39mcolumns\u001b[38;5;241m.\u001b[39mnlevels \u001b[38;5;241m>\u001b[39m \u001b[38;5;241m1\u001b[39m:\n\u001b[0;32m   4089\u001b[0m     \u001b[38;5;28;01mreturn\u001b[39;00m \u001b[38;5;28mself\u001b[39m\u001b[38;5;241m.\u001b[39m_getitem_multilevel(key)\n\u001b[1;32m-> 4090\u001b[0m indexer \u001b[38;5;241m=\u001b[39m \u001b[38;5;28;43mself\u001b[39;49m\u001b[38;5;241;43m.\u001b[39;49m\u001b[43mcolumns\u001b[49m\u001b[38;5;241;43m.\u001b[39;49m\u001b[43mget_loc\u001b[49m\u001b[43m(\u001b[49m\u001b[43mkey\u001b[49m\u001b[43m)\u001b[49m\n\u001b[0;32m   4091\u001b[0m \u001b[38;5;28;01mif\u001b[39;00m is_integer(indexer):\n\u001b[0;32m   4092\u001b[0m     indexer \u001b[38;5;241m=\u001b[39m [indexer]\n",
      "File \u001b[1;32m~\\AppData\\Local\\Packages\\PythonSoftwareFoundation.Python.3.12_qbz5n2kfra8p0\\LocalCache\\local-packages\\Python312\\site-packages\\pandas\\core\\indexes\\base.py:3812\u001b[0m, in \u001b[0;36mIndex.get_loc\u001b[1;34m(self, key)\u001b[0m\n\u001b[0;32m   3807\u001b[0m     \u001b[38;5;28;01mif\u001b[39;00m \u001b[38;5;28misinstance\u001b[39m(casted_key, \u001b[38;5;28mslice\u001b[39m) \u001b[38;5;129;01mor\u001b[39;00m (\n\u001b[0;32m   3808\u001b[0m         \u001b[38;5;28misinstance\u001b[39m(casted_key, abc\u001b[38;5;241m.\u001b[39mIterable)\n\u001b[0;32m   3809\u001b[0m         \u001b[38;5;129;01mand\u001b[39;00m \u001b[38;5;28many\u001b[39m(\u001b[38;5;28misinstance\u001b[39m(x, \u001b[38;5;28mslice\u001b[39m) \u001b[38;5;28;01mfor\u001b[39;00m x \u001b[38;5;129;01min\u001b[39;00m casted_key)\n\u001b[0;32m   3810\u001b[0m     ):\n\u001b[0;32m   3811\u001b[0m         \u001b[38;5;28;01mraise\u001b[39;00m InvalidIndexError(key)\n\u001b[1;32m-> 3812\u001b[0m     \u001b[38;5;28;01mraise\u001b[39;00m \u001b[38;5;167;01mKeyError\u001b[39;00m(key) \u001b[38;5;28;01mfrom\u001b[39;00m \u001b[38;5;21;01merr\u001b[39;00m\n\u001b[0;32m   3813\u001b[0m \u001b[38;5;28;01mexcept\u001b[39;00m \u001b[38;5;167;01mTypeError\u001b[39;00m:\n\u001b[0;32m   3814\u001b[0m     \u001b[38;5;66;03m# If we have a listlike key, _check_indexing_error will raise\u001b[39;00m\n\u001b[0;32m   3815\u001b[0m     \u001b[38;5;66;03m#  InvalidIndexError. Otherwise we fall through and re-raise\u001b[39;00m\n\u001b[0;32m   3816\u001b[0m     \u001b[38;5;66;03m#  the TypeError.\u001b[39;00m\n\u001b[0;32m   3817\u001b[0m     \u001b[38;5;28mself\u001b[39m\u001b[38;5;241m.\u001b[39m_check_indexing_error(key)\n",
      "\u001b[1;31mKeyError\u001b[0m: 'Date'"
     ]
    },
    {
     "data": {
      "text/plain": [
       "<Figure size 1000x600 with 0 Axes>"
      ]
     },
     "metadata": {},
     "output_type": "display_data"
    }
   ],
   "source": [
    "# T7\n",
    "plt.figure(figsize=(10,6))\n",
    "plt.plot(CDNS['Date'], CDNS['Log_Returns'], label='CDNS')\n",
    "plt.plot(CSCO['Date'], CSCO['Log_Returns'], label='CSCO')\n",
    "plt.plot(EMN['Date'], EMN['Log_Returns'], label='EMN')\n",
    "plt.plot(STZ['Date'], STZ['Log_Returns'], label='STZ')\n",
    "\n",
    "plt.xlabel('Date')\n",
    "plt.ylabel('Log Returns')\n",
    "plt.title('Logarithmic Returns of CDNS, CSCO, EMN, STZ')\n",
    "plt.legend()\n",
    "plt.show()"
   ]
  }
 ],
 "metadata": {
  "kernelspec": {
   "display_name": "Python 3",
   "language": "python",
   "name": "python3"
  },
  "language_info": {
   "codemirror_mode": {
    "name": "ipython",
    "version": 3
   },
   "file_extension": ".py",
   "mimetype": "text/x-python",
   "name": "python",
   "nbconvert_exporter": "python",
   "pygments_lexer": "ipython3",
   "version": "3.12.2"
  }
 },
 "nbformat": 4,
 "nbformat_minor": 2
}
